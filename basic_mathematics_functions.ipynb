{
 "cells": [
  {
   "cell_type": "markdown",
   "metadata": {},
   "source": [
    "1. EVEN ODD GENERATOR"
   ]
  },
  {
   "cell_type": "code",
   "execution_count": 6,
   "metadata": {},
   "outputs": [
    {
     "name": "stdout",
     "output_type": "stream",
     "text": [
      "Even Numbers:  [2, 4, 6, 8, 10, 12, 14, 16, 18, 20]\n",
      "Odd Numbers:  [1, 3, 5, 7, 9, 11, 13, 15, 17, 19]\n"
     ]
    }
   ],
   "source": [
    "def even_odd():\n",
    "    num = int(input(\"Enter the upper limit: \"))\n",
    "    \n",
    "    # Initialize empty lists for even and odd numbers\n",
    "    even = []\n",
    "    odd = []\n",
    "    \n",
    "    # Loop through numbers from 1 to the upper limit\n",
    "    for i in range(1, num+1):\n",
    "        # Check if the number is even\n",
    "        if i % 2 == 0:\n",
    "            even.append(i)  # Add even number to the even list\n",
    "        else:\n",
    "            odd.append(i)   # Add odd number to the odd list\n",
    "    \n",
    "    # Print the lists of even and odd numbers\n",
    "    print(\"Even Numbers: \", even)\n",
    "    print(\"Odd Numbers: \", odd)\n",
    "    \n",
    "even_odd()"
   ]
  },
  {
   "cell_type": "markdown",
   "metadata": {},
   "source": [
    "2. FACTORIAL NUMBER"
   ]
  },
  {
   "cell_type": "code",
   "execution_count": 8,
   "metadata": {},
   "outputs": [
    {
     "name": "stdout",
     "output_type": "stream",
     "text": [
      "The factorial of 5 is: 120\n"
     ]
    }
   ],
   "source": [
    "def find_factorial():\n",
    "    num = int(input(\"Enter any number: \"))\n",
    "    \n",
    "    # Initialize the factorial variable to 1\n",
    "    fact = 1\n",
    "    \n",
    "    # Loop through numbers from 1 to the entered number (inclusive)\n",
    "    for i in range(1, num + 1):\n",
    "        fact *= i  # Multiply fact by the current number\n",
    "        \n",
    "    print(f\"The factorial of {num} is: {fact}\")\n",
    "    \n",
    "find_factorial()"
   ]
  },
  {
   "cell_type": "markdown",
   "metadata": {},
   "source": [
    "3. FACTORS OF A NUMBER"
   ]
  },
  {
   "cell_type": "code",
   "execution_count": 9,
   "metadata": {},
   "outputs": [
    {
     "name": "stdout",
     "output_type": "stream",
     "text": [
      "The factors of 20 are: [1, 2, 4, 5, 10, 20]\n"
     ]
    }
   ],
   "source": [
    "def find_factors():\n",
    "    num = int(input(\"Enter any number: \"))\n",
    "    \n",
    "    # Initialize an empty list to store factors\n",
    "    factors = []\n",
    "    \n",
    "    # Loop through numbers from 1 to the entered number\n",
    "    for i in range(1, num + 1):\n",
    "        # Check if the number is a factor\n",
    "        if num % i == 0:\n",
    "            factors.append(i)  # Add factor to the list\n",
    "\n",
    "    print(f\"The factors of {num} are: {factors}\")\n",
    "    \n",
    "find_factors()"
   ]
  },
  {
   "cell_type": "markdown",
   "metadata": {},
   "source": [
    "4. PRIME NUMBERS GENERATOR"
   ]
  },
  {
   "cell_type": "code",
   "execution_count": 10,
   "metadata": {},
   "outputs": [
    {
     "name": "stdout",
     "output_type": "stream",
     "text": [
      "Prime numbers up to 20: [2, 3, 5, 7, 11, 13, 17, 19]\n"
     ]
    }
   ],
   "source": [
    "def find_primes():\n",
    "    n = int(input(\"Find prime numbers up to: \"))\n",
    "    \n",
    "    # Initialize an empty list to store prime numbers\n",
    "    primes = []\n",
    "    \n",
    "    # Loop through numbers from 2 to the upper limit\n",
    "    for num in range(2, n + 1):\n",
    "        divisor_count = 0  # Initialize the count of divisors\n",
    "        \n",
    "        # Check the number of divisors for the current number\n",
    "        for i in range(1, num + 1):\n",
    "            if num % i == 0:\n",
    "                divisor_count += 1\n",
    "        \n",
    "        # If the number has exactly 2 divisors, it is prime\n",
    "        if divisor_count == 2:\n",
    "            primes.append(num)  # Add prime number to the list\n",
    "    \n",
    "    print(f\"Prime numbers up to {n}: {primes}\")\n",
    "\n",
    "find_primes()"
   ]
  },
  {
   "cell_type": "markdown",
   "metadata": {},
   "source": [
    "5. FIBONACCI SERIES GENERATOR"
   ]
  },
  {
   "cell_type": "code",
   "execution_count": 11,
   "metadata": {},
   "outputs": [
    {
     "name": "stdout",
     "output_type": "stream",
     "text": [
      "The first 10 terms of the Fibonacci series are: [0, 1, 1, 2, 3, 5, 8, 13, 21, 34]\n"
     ]
    }
   ],
   "source": [
    "def fibonacci_series():\n",
    "    num_terms = int(input(\"Enter the number of terms: \"))\n",
    "    \n",
    "    # Initialize an empty list to store the Fibonacci series\n",
    "    fib_series = []\n",
    "    \n",
    "    # Initialize the first two terms of the Fibonacci series\n",
    "    a, b = 0, 1\n",
    "    \n",
    "    # Generate the Fibonacci series\n",
    "    for _ in range(num_terms):\n",
    "        fib_series.append(a)  # Append the current term to the series\n",
    "        a, b = b, a + b      # Update terms for the next iteration\n",
    "    \n",
    "    print(f\"The first {num_terms} terms of the Fibonacci series are: {fib_series}\")\n",
    "\n",
    "fibonacci_series()"
   ]
  },
  {
   "cell_type": "markdown",
   "metadata": {},
   "source": [
    "6. LCM HCF/GCD"
   ]
  },
  {
   "cell_type": "code",
   "execution_count": 3,
   "metadata": {},
   "outputs": [
    {
     "name": "stdout",
     "output_type": "stream",
     "text": [
      "LCM of [10, 50]: 50\n",
      "GCD of [10, 50]: 10\n"
     ]
    }
   ],
   "source": [
    "import math\n",
    "from functools import reduce\n",
    "\n",
    "def find_gcd(numbers):\n",
    "    # Compute the GCD of a list of numbers using the reduce function\n",
    "    return reduce(math.gcd, numbers)\n",
    "\n",
    "def find_lcm(numbers):\n",
    "    # Function to compute the LCM of two numbers\n",
    "    def lcm(x, y):\n",
    "        return abs(x * y) // math.gcd(x, y)\n",
    "    \n",
    "    # Compute the LCM of a list of numbers using the reduce function\n",
    "    return reduce(lcm, numbers)\n",
    "\n",
    "def main():\n",
    "    # Get a list of numbers from the user, separated by spaces\n",
    "    numbers = list(map(int, input(\"Enter numbers separated by spaces: \").split()))\n",
    "    \n",
    "    # Check if at least two numbers are provided\n",
    "    if len(numbers) < 2:\n",
    "        print(\"Please enter at least two numbers.\")\n",
    "        return\n",
    "    \n",
    "    # Calculate the GCD and LCM of the numbers\n",
    "    gcd = find_gcd(numbers)\n",
    "    lcm = find_lcm(numbers)\n",
    "    \n",
    "    print(f\"LCM of {numbers}: {lcm}\")\n",
    "    print(f\"GCD of {numbers}: {gcd}\")\n",
    "\n",
    "main()"
   ]
  },
  {
   "cell_type": "markdown",
   "metadata": {},
   "source": [
    "7. SET OPERATIONS"
   ]
  },
  {
   "cell_type": "code",
   "execution_count": 2,
   "metadata": {},
   "outputs": [
    {
     "name": "stdout",
     "output_type": "stream",
     "text": [
      "Set A: {40, 10, 50, 20, 90}\n",
      "Set B: {10, 45, 80, 50, 30}\n",
      "Union (A ∪ B): {40, 10, 45, 80, 50, 20, 90, 30}\n",
      "Intersection (A ∩ B): {10, 50}\n",
      "Difference (A - B): {40, 90, 20}\n",
      "Symmetric Difference (A Δ B): {80, 20, 40, 90, 45, 30}\n"
     ]
    }
   ],
   "source": [
    "def perform_set_operations():\n",
    "    # Function to get a set of integers from user input\n",
    "    def get_set(prompt):\n",
    "        user_input = input(prompt)\n",
    "        return set(map(int, user_input.split()))\n",
    "\n",
    "    # Get two sets of integers from the user\n",
    "    seta = get_set(\"Enter elements for set A (space-separated): \")\n",
    "    setb = get_set(\"Enter elements for set B (space-separated): \")\n",
    "\n",
    "    # Perform set operations\n",
    "    union = seta | setb  # Union of set1 and set2\n",
    "    intersection = seta & setb  # Intersection of set1 and set2\n",
    "    difference = seta - setb  # Difference between set1 and set2\n",
    "    symmetric_difference = seta ^ setb  # Symmetric difference between set1 and set2\n",
    "\n",
    "    print(\"Set A:\", seta)\n",
    "    print(\"Set B:\", setb)\n",
    "    print(\"Union (A ∪ B):\", union)\n",
    "    print(\"Intersection (A ∩ B):\", intersection)\n",
    "    print(\"Difference (A - B):\", difference)\n",
    "    print(\"Symmetric Difference (A Δ B):\", symmetric_difference)\n",
    "\n",
    "perform_set_operations()"
   ]
  },
  {
   "cell_type": "markdown",
   "metadata": {},
   "source": [
    "8. SHAPE SOLVER"
   ]
  },
  {
   "cell_type": "code",
   "execution_count": 1,
   "metadata": {},
   "outputs": [
    {
     "name": "stdout",
     "output_type": "stream",
     "text": [
      "\n",
      "..........Circle............\n",
      "............................\n",
      "Area: 78.54 sq units\n",
      "Circumference: 31.42 units\n",
      "Volume: 1570.80 cubic units\n",
      "............................\n",
      "\n"
     ]
    }
   ],
   "source": [
    "choose = input('''Choose an option:\n",
    "T. Triangle\n",
    "R. Rectangle\n",
    "C. Circle\n",
    "S. Square\n",
    "............................\\n''')\n",
    "# Convert input to lowercase to handle both uppercase and lowercase inputs\n",
    "choose = choose.lower()\n",
    "\n",
    "def switch(choose):\n",
    "    # Check the user’s choice and perform the corresponding calculation\n",
    "    if choose == \"t\":\n",
    "        print(\"\\n..........Triangle..........\")\n",
    "        # Input values for the triangle\n",
    "        base = float(input(\"Base: \"))\n",
    "        height = float(input(\"Height: \"))\n",
    "        sides = input(\"Enter the three sides (space-separated): \")\n",
    "        # Split the input string and convert to floats\n",
    "        side1, side2, side3 = map(float, sides.split())\n",
    "        # Calculate area and perimeter\n",
    "        area = 0.5 * base * height\n",
    "        perimeter = side1 + side2 + side3\n",
    "        # Output results\n",
    "        print(\"............................\")\n",
    "        print(f\"Area: {area:.2f} sq units\")\n",
    "        print(f\"Perimeter: {perimeter:.2f} units\")\n",
    "        print(\"Volume: Not applicable for 2D shape\")\n",
    "        print(\"............................\\n\")\n",
    "\n",
    "    elif choose == \"r\":\n",
    "        print(\"\\n.........Rectangle..........\")\n",
    "        # Input values for the rectangle\n",
    "        length = float(input(\"Length: \"))\n",
    "        width = float(input(\"Width: \"))\n",
    "        # Calculate area and perimeter\n",
    "        area = length * width\n",
    "        perimeter = 2 * (length + width)\n",
    "        # Output results\n",
    "        print(\"............................\")\n",
    "        print(f\"Area: {area:.2f} sq units\")\n",
    "        print(f\"Perimeter: {perimeter:.2f} units\")\n",
    "        print(\"Volume: Not applicable for 2D shape\")\n",
    "        print(\"............................\\n\")\n",
    "\n",
    "    elif choose == \"c\":\n",
    "        print(\"\\n..........Circle............\")\n",
    "        # Input value for the circle\n",
    "        radius = float(input(\"Radius: \"))\n",
    "        # Calculate area and circumference\n",
    "        area = 3.14159 * radius * radius\n",
    "        circumference = 2 * 3.14159 * radius\n",
    "        # Calculate volume for a cylinder\n",
    "        height = float(input(\"Height of cylinder: \"))\n",
    "        volume = area * height\n",
    "        # Output results\n",
    "        print(\"............................\")\n",
    "        print(f\"Area: {area:.2f} sq units\")\n",
    "        print(f\"Circumference: {circumference:.2f} units\")\n",
    "        print(f\"Volume: {volume:.2f} cubic units\")\n",
    "        print(\"............................\\n\")\n",
    "\n",
    "    elif choose == \"s\":\n",
    "        print(\"\\n...........Square...........\")\n",
    "        # Input value for the square\n",
    "        side = float(input(\"Side: \"))\n",
    "        # Calculate area and perimeter\n",
    "        area = side * side\n",
    "        perimeter = 4 * side\n",
    "        # Calculate volume for a cube\n",
    "        volume = area * side\n",
    "        # Output results\n",
    "        print(\"............................\")\n",
    "        print(f\"Area: {area:.2f} sq units\")\n",
    "        print(f\"Perimeter: {perimeter:.2f} units\")\n",
    "        print(f\"Volume: {volume:.2f} cubic units\")\n",
    "        print(\"............................\\n\")\n",
    "\n",
    "    else:\n",
    "        # Handle invalid choice\n",
    "        print(\"Invalid choice.\")\n",
    "\n",
    "# Call the function with the user's choice\n",
    "switch(choose)"
   ]
  },
  {
   "cell_type": "markdown",
   "metadata": {},
   "source": [
    "9. INTEREST CALCULATOR"
   ]
  },
  {
   "cell_type": "code",
   "execution_count": 24,
   "metadata": {},
   "outputs": [
    {
     "name": "stdout",
     "output_type": "stream",
     "text": [
      "\n",
      "..........Compound Amount..........\n",
      "...................................\n",
      "Principal: 50000.0\n",
      "CA: 60500.00 units\n",
      "...................................\n"
     ]
    }
   ],
   "source": [
    "choose = input('''Choose an option:\n",
    "SI. Simple Interest\n",
    "CI. Compound Interest\n",
    "CA. Compound Amount\\n''')\n",
    "choose = choose.lower()  # Convert input to lowercase for consistency\n",
    "\n",
    "def switch(option):\n",
    "    if option == \"si\":\n",
    "        print(\"\\n..........Simple Interest..........\")\n",
    "        # Input values for simple interest calculation\n",
    "        p = float(input(\"Principal amount: \"))\n",
    "        t = float(input(\"Time (years): \"))\n",
    "        r = float(input(\"Rate (%): \"))\n",
    "        # Calculate simple interest\n",
    "        si = (p * t * r) / 100\n",
    "        # Print results\n",
    "        print(\"...................................\")\n",
    "        print(f\"Principal: {p}\")\n",
    "        print(f\"SI: {si:.2f} units\")\n",
    "        print(\"...................................\")\n",
    "\n",
    "    elif option == \"ci\":\n",
    "        print(\"\\n..........Compound Interest..........\")\n",
    "        # Input values for compound interest calculation\n",
    "        p = float(input(\"Principal amount: \"))\n",
    "        t = float(input(\"Time (years): \"))\n",
    "        r = float(input(\"Rate (%): \"))\n",
    "        n = float(input(\"Compounding periods per year: \"))\n",
    "        # Calculate compound interest\n",
    "        ci = p * (1 + (r / (n * 100))) ** (n * t) - p\n",
    "        # Print results\n",
    "        print(\".....................................\")\n",
    "        print(f\"Principal: {p}\")\n",
    "        print(f\"CI: {ci:.2f} units\")\n",
    "        print(\".....................................\")\n",
    "\n",
    "    elif option == \"ca\":\n",
    "        print(\"\\n..........Compound Amount..........\")\n",
    "        # Input values for compound amount calculation\n",
    "        p = float(input(\"Principal amount: \"))\n",
    "        t = float(input(\"Time (years): \"))\n",
    "        r = float(input(\"Rate (%): \"))\n",
    "        n = float(input(\"Compounding periods per year: \"))\n",
    "        # Calculate compound amount\n",
    "        ca = p * (1 + (r / (n * 100))) ** (n * t)\n",
    "        # Print results\n",
    "        print(\"...................................\")\n",
    "        print(f\"Principal: {p}\")\n",
    "        print(f\"CA: {ca:.2f} units\")\n",
    "        print(\"...................................\")\n",
    "\n",
    "    else:\n",
    "        print(\"Invalid choice.\")  # Handle invalid option\n",
    "\n",
    "switch(choose) "
   ]
  },
  {
   "cell_type": "markdown",
   "metadata": {},
   "source": [
    "10. LEAP YEAR CHECKER"
   ]
  },
  {
   "cell_type": "code",
   "execution_count": 25,
   "metadata": {},
   "outputs": [
    {
     "name": "stdout",
     "output_type": "stream",
     "text": [
      "2024 is a leap year.\n"
     ]
    }
   ],
   "source": [
    "year = int(input(\"Enter any year: \"))\n",
    "\n",
    "# If divisible by 4 but not by 100, or divisible by 400, it is a leap year\n",
    "if year % 4 == 0 and year % 100 != 0 or year % 400 == 0:\n",
    "    print(f\"{year} is a leap year.\")\n",
    "else:\n",
    "    # Otherwise, it is not a leap year\n",
    "    print(f\"{year} is not a leap year.\")"
   ]
  },
  {
   "cell_type": "markdown",
   "metadata": {},
   "source": [
    "11. PALINDROME CHECKER"
   ]
  },
  {
   "cell_type": "code",
   "execution_count": 33,
   "metadata": {},
   "outputs": [
    {
     "name": "stdout",
     "output_type": "stream",
     "text": [
      "wasitacatisaw\n",
      "Palindrome\n"
     ]
    }
   ],
   "source": [
    "input_string = input(\"Enter a string: \")\n",
    "\n",
    "# Remove spaces and convert the string to lowercase\n",
    "input_string = input_string.replace(\" \", \"\").lower()\n",
    "\n",
    "# Check if the string is equal to its reverse\n",
    "if input_string == input_string[::-1]:\n",
    "    # If equal, it is a palindrome\n",
    "    print(f\"{input_string}\\nPalindrome\")\n",
    "else:\n",
    "    # Otherwise, it is not a palindrome\n",
    "    print(f\"{input_string}\\nNot a palindrome\")"
   ]
  },
  {
   "cell_type": "markdown",
   "metadata": {},
   "source": [
    "12. ARMSTRONG CHECKER"
   ]
  },
  {
   "cell_type": "code",
   "execution_count": 35,
   "metadata": {},
   "outputs": [
    {
     "name": "stdout",
     "output_type": "stream",
     "text": [
      "153 is an Armstrong number\n"
     ]
    }
   ],
   "source": [
    "number = int(input(\"Enter a number: \"))\n",
    "\n",
    "# Convert the number to a string to iterate over each digit\n",
    "num_str = str(number)\n",
    "\n",
    "# Find the number of digits\n",
    "n = len(num_str)\n",
    "\n",
    "# Initialize the total sum\n",
    "total = 0\n",
    "\n",
    "# Calculate the sum of each digit raised to the power of the number of digits\n",
    "for i in num_str:\n",
    "    total = total + int(i) ** n\n",
    "\n",
    "# Check if the total equals the original number\n",
    "if total == number:\n",
    "    print(f\"{number} is an Armstrong number\")\n",
    "else:\n",
    "    print(f\"{number} is not an Armstrong number\")"
   ]
  }
 ],
 "metadata": {
  "kernelspec": {
   "display_name": "Python 3",
   "language": "python",
   "name": "python3"
  },
  "language_info": {
   "codemirror_mode": {
    "name": "ipython",
    "version": 3
   },
   "file_extension": ".py",
   "mimetype": "text/x-python",
   "name": "python",
   "nbconvert_exporter": "python",
   "pygments_lexer": "ipython3",
   "version": "3.11.9"
  }
 },
 "nbformat": 4,
 "nbformat_minor": 2
}
