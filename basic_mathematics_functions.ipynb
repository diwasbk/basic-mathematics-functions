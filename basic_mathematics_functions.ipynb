{
 "cells": [
  {
   "cell_type": "markdown",
   "metadata": {},
   "source": [
    "1. EVEN ODD GENERATOR"
   ]
  },
  {
   "cell_type": "code",
   "execution_count": 6,
   "metadata": {},
   "outputs": [
    {
     "name": "stdout",
     "output_type": "stream",
     "text": [
      "Even Numbers:  [2, 4, 6, 8, 10, 12, 14, 16, 18, 20]\n",
      "Odd Numbers:  [1, 3, 5, 7, 9, 11, 13, 15, 17, 19]\n"
     ]
    }
   ],
   "source": [
    "def even_odd():\n",
    "    num = int(input(\"Enter the upper limit: \"))\n",
    "    \n",
    "    # Initialize empty lists for even and odd numbers\n",
    "    even = []\n",
    "    odd = []\n",
    "    \n",
    "    # Loop through numbers from 1 to the upper limit\n",
    "    for i in range(1, num+1):\n",
    "        # Check if the number is even\n",
    "        if i % 2 == 0:\n",
    "            even.append(i)  # Add even number to the even list\n",
    "        else:\n",
    "            odd.append(i)   # Add odd number to the odd list\n",
    "    \n",
    "    # Print the lists of even and odd numbers\n",
    "    print(\"Even Numbers: \", even)\n",
    "    print(\"Odd Numbers: \", odd)\n",
    "    \n",
    "even_odd()"
   ]
  },
  {
   "cell_type": "markdown",
   "metadata": {},
   "source": [
    "2. FACTORIAL NUMBER"
   ]
  },
  {
   "cell_type": "code",
   "execution_count": 8,
   "metadata": {},
   "outputs": [
    {
     "name": "stdout",
     "output_type": "stream",
     "text": [
      "The factorial of 5 is: 120\n"
     ]
    }
   ],
   "source": [
    "def find_factorial():\n",
    "    num = int(input(\"Enter any number: \"))\n",
    "    \n",
    "    # Initialize the factorial variable to 1\n",
    "    fact = 1\n",
    "    \n",
    "    # Loop through numbers from 1 to the entered number (inclusive)\n",
    "    for i in range(1, num + 1):\n",
    "        fact *= i  # Multiply fact by the current number\n",
    "        \n",
    "    print(f\"The factorial of {num} is: {fact}\")\n",
    "    \n",
    "find_factorial()"
   ]
  },
  {
   "cell_type": "markdown",
   "metadata": {},
   "source": [
    "3. FACTORS OF A NUMBER"
   ]
  },
  {
   "cell_type": "code",
   "execution_count": 9,
   "metadata": {},
   "outputs": [
    {
     "name": "stdout",
     "output_type": "stream",
     "text": [
      "The factors of 20 are: [1, 2, 4, 5, 10, 20]\n"
     ]
    }
   ],
   "source": [
    "def find_factors():\n",
    "    num = int(input(\"Enter any number: \"))\n",
    "    \n",
    "    # Initialize an empty list to store factors\n",
    "    factors = []\n",
    "    \n",
    "    # Loop through numbers from 1 to the entered number\n",
    "    for i in range(1, num + 1):\n",
    "        # Check if the number is a factor\n",
    "        if num % i == 0:\n",
    "            factors.append(i)  # Add factor to the list\n",
    "\n",
    "    print(f\"The factors of {num} are: {factors}\")\n",
    "    \n",
    "find_factors()"
   ]
  },
  {
   "cell_type": "markdown",
   "metadata": {},
   "source": [
    "4. PRIME NUMBERS GENERATOR"
   ]
  },
  {
   "cell_type": "code",
   "execution_count": 10,
   "metadata": {},
   "outputs": [
    {
     "name": "stdout",
     "output_type": "stream",
     "text": [
      "Prime numbers up to 20: [2, 3, 5, 7, 11, 13, 17, 19]\n"
     ]
    }
   ],
   "source": [
    "def find_primes():\n",
    "    n = int(input(\"Find prime numbers up to: \"))\n",
    "    \n",
    "    # Initialize an empty list to store prime numbers\n",
    "    primes = []\n",
    "    \n",
    "    # Loop through numbers from 2 to the upper limit\n",
    "    for num in range(2, n + 1):\n",
    "        divisor_count = 0  # Initialize the count of divisors\n",
    "        \n",
    "        # Check the number of divisors for the current number\n",
    "        for i in range(1, num + 1):\n",
    "            if num % i == 0:\n",
    "                divisor_count += 1\n",
    "        \n",
    "        # If the number has exactly 2 divisors, it is prime\n",
    "        if divisor_count == 2:\n",
    "            primes.append(num)  # Add prime number to the list\n",
    "    \n",
    "    print(f\"Prime numbers up to {n}: {primes}\")\n",
    "\n",
    "find_primes()"
   ]
  },
  {
   "cell_type": "markdown",
   "metadata": {},
   "source": [
    "5. FIBONACCI SERIES GENERATOR"
   ]
  },
  {
   "cell_type": "code",
   "execution_count": 11,
   "metadata": {},
   "outputs": [
    {
     "name": "stdout",
     "output_type": "stream",
     "text": [
      "The first 10 terms of the Fibonacci series are: [0, 1, 1, 2, 3, 5, 8, 13, 21, 34]\n"
     ]
    }
   ],
   "source": [
    "def fibonacci_series():\n",
    "    num_terms = int(input(\"Enter the number of terms: \"))\n",
    "    \n",
    "    # Initialize an empty list to store the Fibonacci series\n",
    "    fib_series = []\n",
    "    \n",
    "    # Initialize the first two terms of the Fibonacci series\n",
    "    a, b = 0, 1\n",
    "    \n",
    "    # Generate the Fibonacci series\n",
    "    for _ in range(num_terms):\n",
    "        fib_series.append(a)  # Append the current term to the series\n",
    "        a, b = b, a + b      # Update terms for the next iteration\n",
    "    \n",
    "    print(f\"The first {num_terms} terms of the Fibonacci series are: {fib_series}\")\n",
    "\n",
    "fibonacci_series()"
   ]
  }
 ],
 "metadata": {
  "kernelspec": {
   "display_name": "Python 3",
   "language": "python",
   "name": "python3"
  },
  "language_info": {
   "codemirror_mode": {
    "name": "ipython",
    "version": 3
   },
   "file_extension": ".py",
   "mimetype": "text/x-python",
   "name": "python",
   "nbconvert_exporter": "python",
   "pygments_lexer": "ipython3",
   "version": "3.11.9"
  }
 },
 "nbformat": 4,
 "nbformat_minor": 2
}
